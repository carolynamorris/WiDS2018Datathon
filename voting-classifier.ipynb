{
 "cells": [
  {
   "cell_type": "code",
   "execution_count": 1,
   "metadata": {},
   "outputs": [],
   "source": [
    "%matplotlib inline\n",
    "import pandas as pd\n",
    "import numpy as np\n",
    "import matplotlib.pyplot as plt\n",
    "import seaborn as sns\n",
    "import time\n",
    "from sklearn.model_selection import train_test_split\n",
    "from sklearn.decomposition import PCA\n",
    "from sklearn.feature_selection import SelectKBest\n",
    "from sklearn.feature_selection import chi2\n",
    "from sklearn.feature_selection import VarianceThreshold\n",
    "from sklearn.linear_model import LogisticRegression\n",
    "from sklearn.metrics import confusion_matrix\n",
    "from sklearn.metrics import roc_auc_score\n",
    "from xgboost import XGBClassifier\n",
    "from sklearn.ensemble import VotingClassifier\n",
    "from helpers import format_submission"
   ]
  },
  {
   "cell_type": "code",
   "execution_count": 29,
   "metadata": {},
   "outputs": [
    {
     "name": "stdout",
     "output_type": "stream",
     "text": [
      "Loading data...\n",
      "\n",
      "Train Shape: (18255, 1235)\n",
      "Test Shape: (27285, 1234)\n",
      "\n",
      "Converting to dummy variables...\n",
      "\n",
      "Splitting into train and validation set...\n",
      "\n",
      "Data preprocessing complete.\n"
     ]
    }
   ],
   "source": [
    "seed = 37\n",
    "\n",
    "print 'Loading data...\\n'\n",
    "train = pd.read_csv('data/train.csv', low_memory=False)\n",
    "test = pd.read_csv('data/test.csv', low_memory=False)\n",
    "\n",
    "print 'Train Shape: {}'.format(train.shape)\n",
    "print 'Test Shape: {}\\n'.format(test.shape)\n",
    "\n",
    "y_train = train['is_female']\n",
    "del train['is_female']\n",
    "\n",
    "del train['train_id']\n",
    "del test['test_id']\n",
    "\n",
    "# Remove rows/columns that are missing all data\n",
    "train = train.dropna(axis=0, how='all')\n",
    "train = train.dropna(axis=1, how='all')\n",
    "\n",
    "# Convert to dummy variables\n",
    "print 'Converting to dummy variables...\\n'\n",
    "train_str = train.applymap(str)\n",
    "train_dummies = pd.get_dummies(train_str)\n",
    "\n",
    "# Split into train and validation set\n",
    "print 'Splitting into train and validation set...\\n'\n",
    "X_train, X_test, y_train, y_test = train_test_split(train_dummies, label, test_size=0.2, random_state=seed)\n",
    "\n",
    "# # Format train and test set \n",
    "# print 'Converting to dummy variables...\\n'\n",
    "# train_str = train.applymap(str)\n",
    "# test_str = test.applymap(str)\n",
    "# total = pd.concat([train_str, test_str], ignore_index=True)\n",
    "# total_dummies = pd.get_dummies(total)\n",
    "# X_train = total_dummies.head(len(train))\n",
    "# X_test = total_dummies.tail(len(test))\n",
    "\n",
    "print 'Data preprocessing complete.'"
   ]
  },
  {
   "cell_type": "markdown",
   "metadata": {},
   "source": [
    "#### Feature Selection"
   ]
  },
  {
   "cell_type": "code",
   "execution_count": 35,
   "metadata": {},
   "outputs": [],
   "source": [
    "# # XGB with SelectKBest (k=1003)\n",
    "# k=1003\n",
    "# ch2 = SelectKBest(chi2, k=k)\n",
    "# X_train_new = ch2.fit_transform(X_train, y_train)\n",
    "# X_test_new = ch2.transform(X_test)\n",
    "\n",
    "# # Logistic Regression with Variance Threshold (t=0)\n",
    "# t=0\n",
    "# sel = VarianceThreshold(threshold=t)\n",
    "# X_train_new = sel.fit_transform(X_train)\n",
    "# X_test_new = sel.transform(X_test)\n",
    "\n",
    "# No feature selection\n",
    "X_train_new = X_train\n",
    "X_test_new = X_test"
   ]
  },
  {
   "cell_type": "markdown",
   "metadata": {},
   "source": [
    "#### Voting Classifier"
   ]
  },
  {
   "cell_type": "code",
   "execution_count": 36,
   "metadata": {},
   "outputs": [],
   "source": [
    "logreg = LogisticRegression(C=0.2, penalty='l1', solver='liblinear')\n",
    "xgb = XGBClassifier(max_depth=7, n_estimators=100, random_state=seed)\n",
    "clf = VotingClassifier(estimators=[('logreg', logreg), ('xgb', xgb)], voting='soft')\n",
    "clf = clf.fit(X_train_new, y_train)"
   ]
  },
  {
   "cell_type": "code",
   "execution_count": 37,
   "metadata": {},
   "outputs": [],
   "source": [
    "predictions = clf.predict_proba(X_test_new)"
   ]
  },
  {
   "cell_type": "code",
   "execution_count": 38,
   "metadata": {},
   "outputs": [
    {
     "data": {
      "text/plain": [
       "0.96452121201165375"
      ]
     },
     "execution_count": 38,
     "metadata": {},
     "output_type": "execute_result"
    }
   ],
   "source": [
    "# No Feature Selection\n",
    "preds = np.round([p[1] for p in predictions], 1)\n",
    "roc_auc_score(y_test, preds)"
   ]
  },
  {
   "cell_type": "code",
   "execution_count": 34,
   "metadata": {},
   "outputs": [
    {
     "data": {
      "text/plain": [
       "0.96195245110888161"
      ]
     },
     "execution_count": 34,
     "metadata": {},
     "output_type": "execute_result"
    }
   ],
   "source": [
    "# SelectKBest\n",
    "preds = np.round([p[1] for p in predictions], 1)\n",
    "roc_auc_score(y_test, preds)"
   ]
  },
  {
   "cell_type": "code",
   "execution_count": 10,
   "metadata": {},
   "outputs": [
    {
     "data": {
      "text/plain": [
       "0.9644537240404808"
      ]
     },
     "execution_count": 10,
     "metadata": {},
     "output_type": "execute_result"
    }
   ],
   "source": [
    "# VarianceThreshold\n",
    "preds = np.round([p[1] for p in preds], 1)\n",
    "roc_auc_score(y_test, preds)"
   ]
  },
  {
   "cell_type": "markdown",
   "metadata": {},
   "source": [
    "#### Submission"
   ]
  },
  {
   "cell_type": "code",
   "execution_count": 28,
   "metadata": {},
   "outputs": [],
   "source": [
    "sub_number = 14\n",
    "df_preds = format_submission(predictions)\n",
    "df_preds.to_csv('submissions/submission{}.csv'.format(sub_number), index=False)"
   ]
  },
  {
   "cell_type": "code",
   "execution_count": null,
   "metadata": {},
   "outputs": [],
   "source": [
    "# TODO: Voting classifier with Neural Net, RF, NB."
   ]
  }
 ],
 "metadata": {
  "kernelspec": {
   "display_name": "Python 2",
   "language": "python",
   "name": "python2"
  },
  "language_info": {
   "codemirror_mode": {
    "name": "ipython",
    "version": 2
   },
   "file_extension": ".py",
   "mimetype": "text/x-python",
   "name": "python",
   "nbconvert_exporter": "python",
   "pygments_lexer": "ipython2",
   "version": "2.7.9"
  }
 },
 "nbformat": 4,
 "nbformat_minor": 2
}
