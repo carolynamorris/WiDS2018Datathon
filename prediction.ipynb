{
 "cells": [
  {
   "cell_type": "markdown",
   "metadata": {},
   "source": [
    "# WiDS 2018 Datathon"
   ]
  },
  {
   "cell_type": "markdown",
   "metadata": {},
   "source": [
    "Predictive Analytics for Social Impact\n",
    "\n",
    "Competition on [Kaggle](https://www.kaggle.com/c/wids2018datathon)"
   ]
  },
  {
   "cell_type": "code",
   "execution_count": 1,
   "metadata": {},
   "outputs": [],
   "source": [
    "%matplotlib inline\n",
    "import pandas as pd\n",
    "import numpy as np\n",
    "import matplotlib.pyplot as plt\n",
    "import seaborn as sns\n",
    "import time\n",
    "from sklearn.model_selection import train_test_split\n",
    "from sklearn.linear_model import LogisticRegression\n",
    "from sklearn.model_selection import GridSearchCV\n",
    "from sklearn.metrics import roc_auc_score\n",
    "from xgboost import XGBClassifier\n",
    "from helpers import format_submission"
   ]
  },
  {
   "cell_type": "code",
   "execution_count": 254,
   "metadata": {},
   "outputs": [
    {
     "name": "stdout",
     "output_type": "stream",
     "text": [
      "Train Shape: (18255, 1235)\n",
      "Test Shape: (27285, 1234)\n"
     ]
    }
   ],
   "source": [
    "seed = 37\n",
    "\n",
    "train = pd.read_csv('data/train.csv', low_memory=False)\n",
    "test = pd.read_csv('data/test.csv', low_memory=False)\n",
    "\n",
    "print 'Train Shape: {}'.format(train.shape)\n",
    "print 'Test Shape: {}'.format(test.shape)"
   ]
  },
  {
   "cell_type": "code",
   "execution_count": 255,
   "metadata": {},
   "outputs": [
    {
     "data": {
      "image/png": "[encoded data removed]",
      "text/plain": [
       "<matplotlib.figure.Figure at 0x12c872bd0>"
      ]
     },
     "metadata": {},
     "output_type": "display_data"
    },
    {
     "name": "stdout",
     "output_type": "stream",
     "text": [
      "Percentage female: 0.54%\n",
      "Percentage male: 0.46%\n",
      "Total respondents: 18255\n"
     ]
    }
   ],
   "source": [
    "# Gender proportions survey respondents\n",
    "train.is_female.value_counts().plot(kind='bar', title='Gender Proportion of Respondents')\n",
    "plt.xticks(np.arange(0,2), ['female', 'male'], rotation=0)\n",
    "plt.show()\n",
    "\n",
    "num_female = len(train[train.is_female==1])\n",
    "num_male = len(train[train.is_female==0])\n",
    "total = len(train)\n",
    "\n",
    "print 'Percentage female: {:.2}%'.format(float(num_female)/total)\n",
    "print 'Percentage male: {:.2}%'.format(float(num_male)/total)\n",
    "print 'Total respondents: {}'.format(total)"
   ]
  },
  {
   "cell_type": "code",
   "execution_count": 256,
   "metadata": {
    "scrolled": false
   },
   "outputs": [
    {
     "name": "stdout",
     "output_type": "stream",
     "text": [
      "Column Name: IFI14_4\n",
      "Percentage DK: 0.89%\n",
      "\n",
      "Column Name: IFI14_5\n",
      "Percentage DK: 0.9%\n",
      "\n",
      "Column Name: IFI14_6\n",
      "Percentage DK: 0.9%\n",
      "\n",
      "Column Name: IFI14_7\n",
      "Percentage DK: 0.84%\n",
      "\n",
      "Column Name: IFI15_3\n",
      "Percentage DK: 0.8%\n",
      "\n",
      "Column Name: IFI15_4\n",
      "Percentage DK: 0.9%\n",
      "\n",
      "Column Name: IFI15_5\n",
      "Percentage DK: 0.9%\n",
      "\n",
      "Column Name: IFI15_6\n",
      "Percentage DK: 0.9%\n",
      "\n",
      "Column Name: IFI15_7\n",
      "Percentage DK: 0.85%\n",
      "\n",
      "Number of features with no DKs: 1054\n"
     ]
    }
   ],
   "source": [
    "# Explore DK (99) as a response\n",
    "no_DKs = []\n",
    "many_DKs = []\n",
    "for c in train.columns:\n",
    "    num_DKs = len(train[train[c]==99])\n",
    "    percentage = float(num_DKs)/len(train)\n",
    "    if num_DKs == 0:\n",
    "        no_DKs.append(num_DKs)\n",
    "    if percentage >= .8:\n",
    "        many_DKs.append(c)\n",
    "        print 'Column Name: {}'.format(c)\n",
    "        print 'Percentage DK: {:.2}%'.format(percentage)\n",
    "        print ''\n",
    "print 'Number of features with no DKs: {}'.format(len(no_DKs))"
   ]
  },
  {
   "cell_type": "code",
   "execution_count": 5,
   "metadata": {
    "scrolled": false
   },
   "outputs": [],
   "source": [
    "# # Relationship between gender and DK (99) as response\n",
    "# for c in many_DKs:\n",
    "#     train.groupby('is_female')[c].value_counts().unstack(1).plot(kind='bar', title=c)\n",
    "    \n",
    "#     # Plot formatting\n",
    "#     plt.xticks(np.arange(0,2), ['male', 'female'], rotation=0)\n",
    "#     plt.xlabel('')\n",
    "#     plt.title(c+'\\n')\n",
    "#     plt.legend(title=None, loc=0)\n",
    "#     plt.show()"
   ]
  },
  {
   "cell_type": "code",
   "execution_count": 257,
   "metadata": {},
   "outputs": [],
   "source": [
    "# Remove features with many (80%+) DK (99) responses\n",
    "train.drop(many_DKs, axis=1, inplace=True)\n",
    "test.drop(many_DKs, axis=1, inplace=True)"
   ]
  },
  {
   "cell_type": "code",
   "execution_count": 218,
   "metadata": {
    "scrolled": false
   },
   "outputs": [],
   "source": [
    "# # Visualize relationship between gender and select demographics/survey responses\n",
    "# features = ['AA3', 'DG3', 'DG3A', 'DG4', 'DG5_4', 'DG6', 'DL0',\n",
    "#             'DL1', 'DL2', 'DL3', 'DL25_8', 'MT1A', 'MT2', 'MT7A', 'FF1', 'FL4']\n",
    "\n",
    "# titles = ['Zone', 'Marital status', 'Religion', 'Education level',\n",
    "#          'Driver\\'s License', 'Relation to Household Head', 'Main Income Earner', 'Work/Student Past 12 Mos',\n",
    "#          'Primary Job', 'Secondary Job', 'Miss family event due to transportation', 'Who Decides on Mobile Phone',\n",
    "#          'Own Mobile Phone', 'Borrow Phone', 'Bank Account', 'Depend on for Financial Advice']\n",
    "\n",
    "# for pair in zip(features, titles):\n",
    "#     colName = pair[0]\n",
    "#     title = pair[1]\n",
    "    \n",
    "#     train.groupby('is_female')[colName].value_counts().unstack(1).plot(kind='bar')\n",
    "        \n",
    "#     # Plot formatting\n",
    "#     plt.xticks(np.arange(0,2), ['male', 'female'], rotation=0)\n",
    "#     plt.xlabel('')\n",
    "#     plt.title(title+'\\n')\n",
    "#     plt.legend(title=None, loc=0)\n",
    "#     plt.show()"
   ]
  },
  {
   "cell_type": "code",
   "execution_count": 219,
   "metadata": {},
   "outputs": [],
   "source": [
    "# # Downsample to address class imbalance\n",
    "# train_female = train[train.is_female == 1]\n",
    "# train_male = train[train.is_female == 0]\n",
    "# train_female_sample = train_female.sample(n=num_male, random_state=seed)\n",
    "# train_new = pd.concat([train_male, train_female_sample], axis=0, ignore_index=True).sample(frac=1)"
   ]
  },
  {
   "cell_type": "code",
   "execution_count": 220,
   "metadata": {},
   "outputs": [],
   "source": [
    "# num_female = len(train_new[train_new.is_female==1])\n",
    "# num_male = len(train_new[train_new.is_female==0])\n",
    "# total = len(train_new)\n",
    "\n",
    "# print 'Percentage female: {:.2}%'.format(float(num_female)/total)\n",
    "# print 'Percentage male: {:.2}%'.format(float(num_male)/total)\n",
    "# print 'Total respondents: {}'.format(total)"
   ]
  },
  {
   "cell_type": "code",
   "execution_count": 258,
   "metadata": {},
   "outputs": [],
   "source": [
    "# Drop unimportant feature\n",
    "#train = train.drop(['FL9B'], axis=1)\n",
    "#train = train.drop(['FL9B', 'FF3', 'FB20', 'IFI24', 'DG14'], axis=1)\n",
    "train = train.drop(['FL9B', 'FF3', 'FB20', 'IFI24', 'DG14', 'GN5', 'DL5'], axis=1)\n",
    "test = test.drop(['FL9B', 'FF3', 'FB20', 'IFI24', 'DG14', 'GN5', 'DL5'], axis=1)"
   ]
  },
  {
   "cell_type": "code",
   "execution_count": 259,
   "metadata": {},
   "outputs": [],
   "source": [
    "label = train['is_female']\n",
    "del train['is_female']\n",
    "\n",
    "del train['train_id']\n",
    "del test['test_id']\n",
    "\n",
    "# Remove rows/columns that are missing all data\n",
    "train = train.dropna(axis=0, how='all')\n",
    "train = train.dropna(axis=1, how='all')\n",
    "\n",
    "# Convert to categorical\n",
    "train_str = train.applymap(str)\n",
    "train_dum = pd.get_dummies(train_str)\n",
    "\n",
    "# Split into train and validation set\n",
    "X_train, X_test, y_train, y_test = train_test_split(train_dum, label, test_size=0.2, random_state=seed)"
   ]
  },
  {
   "cell_type": "code",
   "execution_count": 223,
   "metadata": {},
   "outputs": [
    {
     "name": "stdout",
     "output_type": "stream",
     "text": [
      "Logistic Regression\n",
      "ROC AUC Score: 0.89155300668\n"
     ]
    }
   ],
   "source": [
    "# Logistic Regression\n",
    "clf = LogisticRegression()\n",
    "clf.fit(X_train, y_train)\n",
    "\n",
    "preds = clf.predict(X_test)\n",
    "score = roc_auc_score(y_test, preds)\n",
    "\n",
    "print 'Logistic Regression'\n",
    "print 'ROC AUC Score: {}'.format(score)"
   ]
  },
  {
   "cell_type": "code",
   "execution_count": 252,
   "metadata": {},
   "outputs": [
    {
     "name": "stdout",
     "output_type": "stream",
     "text": [
      "Logistic Regression\n",
      "ROC AUC Score: 0.901202129487\n"
     ]
    }
   ],
   "source": [
    "# Logistic Regression\n",
    "clf = LogisticRegression(C=0.2, penalty='l1', solver='liblinear')\n",
    "clf.fit(X_train, y_train)\n",
    "\n",
    "preds = clf.predict(X_test)\n",
    "score = roc_auc_score(y_test, preds)\n",
    "\n",
    "print 'Logistic Regression'\n",
    "print 'ROC AUC Score: {}'.format(score)"
   ]
  },
  {
   "cell_type": "code",
   "execution_count": 230,
   "metadata": {},
   "outputs": [
    {
     "name": "stdout",
     "output_type": "stream",
     "text": [
      "Logistic Regression\n",
      "ROC AUC Score: 0.899496551786\n"
     ]
    }
   ],
   "source": [
    "# Logistic Regression\n",
    "clf = LogisticRegression(penalty='l1', solver='liblinear')\n",
    "clf.fit(X_train, y_train)\n",
    "\n",
    "preds = clf.predict(X_test)\n",
    "score = roc_auc_score(y_test, preds)\n",
    "\n",
    "print 'Logistic Regression'\n",
    "print 'ROC AUC Score: {}'.format(score)"
   ]
  },
  {
   "cell_type": "code",
   "execution_count": 226,
   "metadata": {},
   "outputs": [
    {
     "name": "stdout",
     "output_type": "stream",
     "text": [
      "Logistic Regression\n",
      "ROC AUC Score: 0.892068205031\n"
     ]
    }
   ],
   "source": [
    "# Logistic Regression\n",
    "clf = LogisticRegression(penalty='l2', solver='newton-cg')\n",
    "clf.fit(X_train, y_train)\n",
    "\n",
    "preds = clf.predict(X_test)\n",
    "score = roc_auc_score(y_test, preds)\n",
    "\n",
    "print 'Logistic Regression'\n",
    "print 'ROC AUC Score: {}'.format(score)"
   ]
  },
  {
   "cell_type": "code",
   "execution_count": 227,
   "metadata": {},
   "outputs": [
    {
     "name": "stdout",
     "output_type": "stream",
     "text": [
      "Logistic Regression\n",
      "ROC AUC Score: 0.89550737999\n"
     ]
    }
   ],
   "source": [
    "# Logistic Regression\n",
    "clf = LogisticRegression(penalty='l2', solver='lbfgs')\n",
    "clf.fit(X_train, y_train)\n",
    "\n",
    "preds = clf.predict(X_test)\n",
    "score = roc_auc_score(y_test, preds)\n",
    "\n",
    "print 'Logistic Regression'\n",
    "print 'ROC AUC Score: {}'.format(score)"
   ]
  },
  {
   "cell_type": "code",
   "execution_count": 231,
   "metadata": {},
   "outputs": [
    {
     "name": "stdout",
     "output_type": "stream",
     "text": [
      "Logistic Regression\n",
      "ROC AUC Score: 0.895869374622\n"
     ]
    },
    {
     "name": "stderr",
     "output_type": "stream",
     "text": [
      "/Library/Frameworks/Python.framework/Versions/2.7/lib/python2.7/site-packages/sklearn/linear_model/sag.py:286: ConvergenceWarning: The max_iter was reached which means the coef_ did not converge\n",
      "  \"the coef_ did not converge\", ConvergenceWarning)\n"
     ]
    }
   ],
   "source": [
    "# Logistic Regression\n",
    "clf = LogisticRegression(penalty='l2', solver='sag')\n",
    "clf.fit(X_train, y_train)\n",
    "\n",
    "preds = clf.predict(X_test)\n",
    "score = roc_auc_score(y_test, preds)\n",
    "\n",
    "print 'Logistic Regression'\n",
    "print 'ROC AUC Score: {}'.format(score)"
   ]
  },
  {
   "cell_type": "code",
   "execution_count": 240,
   "metadata": {},
   "outputs": [
    {
     "name": "stdout",
     "output_type": "stream",
     "text": [
      "Logistic Regression Tuned with GridSearchCV\n",
      "Best parameters: {'C': 0.10000000000000001, 'fit_intercept': True}\n",
      "Best GridSearchCV ROC AUC score: 0.964128390945\n",
      "ROC AUC Score: 0.901341323427\n",
      "Run time: 0.512094052633 minutes\n"
     ]
    }
   ],
   "source": [
    "# Tune Logistic Regression\n",
    "start = time.time()\n",
    "\n",
    "parameters = {'C': np.arange(0.1, 0.3, 0.2), 'fit_intercept': [True, False]}\n",
    "logreg = LogisticRegression(penalty='l1', solver='liblinear')\n",
    "clf = GridSearchCV(logreg, parameters, scoring='roc_auc', refit=True)\n",
    "clf.fit(X_train, y_train)\n",
    "\n",
    "preds = clf.predict(X_test)\n",
    "score = roc_auc_score(y_test, preds)\n",
    "\n",
    "end = time.time()\n",
    "run_time = float(end - start)/60\n",
    "\n",
    "print 'Logistic Regression Tuned with GridSearchCV'\n",
    "print 'Best parameters: {}'.format(clf.best_params_)\n",
    "print 'Best GridSearchCV ROC AUC score: {}'.format(clf.best_score_)\n",
    "print 'ROC AUC Score: {}'.format(score)\n",
    "print 'Run time: {} minutes'.format(run_time)"
   ]
  },
  {
   "cell_type": "code",
   "execution_count": 253,
   "metadata": {},
   "outputs": [
    {
     "name": "stdout",
     "output_type": "stream",
     "text": [
      "Logistic Regression Tuned with GridSearchCV\n",
      "Best parameters: {'C': 0.20000000000000001, 'fit_intercept': False}\n",
      "Best GridSearchCV ROC AUC score: 0.965016127121\n",
      "ROC AUC Score: 0.900686931135\n",
      "Run time: 4.83342744907 minutes\n"
     ]
    }
   ],
   "source": [
    "# Tune Logistic Regression\n",
    "start = time.time()\n",
    "\n",
    "parameters = {'C': np.arange(0.1, 1.1, 0.1), 'fit_intercept': [True, False]}\n",
    "logreg = LogisticRegression(penalty='l1', solver='liblinear')\n",
    "clf = GridSearchCV(logreg, parameters, scoring='roc_auc', refit=True)\n",
    "clf.fit(X_train, y_train)\n",
    "\n",
    "preds = clf.predict(X_test)\n",
    "score = roc_auc_score(y_test, preds)\n",
    "\n",
    "end = time.time()\n",
    "run_time = float(end - start)/60\n",
    "\n",
    "print 'Logistic Regression Tuned with GridSearchCV'\n",
    "print 'Best parameters: {}'.format(clf.best_params_)\n",
    "print 'Best GridSearchCV ROC AUC score: {}'.format(clf.best_score_)\n",
    "print 'ROC AUC Score: {}'.format(score)\n",
    "print 'Run time: {} minutes'.format(run_time)"
   ]
  },
  {
   "cell_type": "code",
   "execution_count": 242,
   "metadata": {},
   "outputs": [
    {
     "name": "stdout",
     "output_type": "stream",
     "text": [
      "XGBoost Classifier\n",
      "ROC AUC Score: 0.909974059311\n",
      "Run time: 16.324502484 minutes\n"
     ]
    }
   ],
   "source": [
    "# Fit XGBoost Classifier\n",
    "start = time.time()\n",
    "clf = XGBClassifier(max_depth=7, n_estimators=100, random_state=seed)\n",
    "clf.fit(X_train, y_train, eval_metric='auc')\n",
    "\n",
    "preds = clf.predict(X_test)\n",
    "score = roc_auc_score(y_test, preds)\n",
    "\n",
    "end = time.time()\n",
    "run_time = float(end - start)/60\n",
    "\n",
    "print 'XGBoost Classifier'\n",
    "print 'ROC AUC Score: {}'.format(score)\n",
    "print 'Run time: {:2} minutes'.format(run_time)"
   ]
  },
  {
   "cell_type": "code",
   "execution_count": 18,
   "metadata": {},
   "outputs": [
    {
     "name": "stdout",
     "output_type": "stream",
     "text": [
      "XGBoost Classifier\n",
      "ROC AUC Score: 0.910861419157\n",
      "Run time: 21.0145239512 minutes\n"
     ]
    }
   ],
   "source": [
    "# Fit XGBoost Classifier, max_depth=9\n",
    "start = time.time()\n",
    "clf = XGBClassifier(max_depth=9, n_estimators=100, random_state=seed)\n",
    "clf.fit(X_train, y_train, eval_metric='auc')\n",
    "\n",
    "preds = clf.predict(X_test)\n",
    "score = roc_auc_score(y_test, preds)\n",
    "\n",
    "end = time.time()\n",
    "run_time = float(end - start)/60\n",
    "\n",
    "print 'XGBoost Classifier'\n",
    "print 'ROC AUC Score: {}'.format(score)\n",
    "print 'Run time: {:2} minutes'.format(run_time)"
   ]
  },
  {
   "cell_type": "code",
   "execution_count": 243,
   "metadata": {},
   "outputs": [
    {
     "data": {
      "image/png": "[encoded data removed]",
      "text/plain": [
       "<matplotlib.figure.Figure at 0x11c76bb50>"
      ]
     },
     "metadata": {},
     "output_type": "display_data"
    }
   ],
   "source": [
    "# Create DataFrame of feature importances\n",
    "importances = clf.feature_importances_\n",
    "features = X_train.columns.values\n",
    "d = {'Feature': features, 'Importance': importances}\n",
    "df_importance = pd.DataFrame(d).set_index('Feature').sort_values(by=['Importance'], ascending=False)\n",
    "\n",
    "# Visualize Top 20 Important Features\n",
    "df_importance.head(20).plot(kind='barh', title='Top 20 Features')\n",
    "plt.show()"
   ]
  },
  {
   "cell_type": "code",
   "execution_count": 244,
   "metadata": {},
   "outputs": [],
   "source": [
    "df_importance = df_importance.reset_index()"
   ]
  },
  {
   "cell_type": "code",
   "execution_count": 245,
   "metadata": {
    "scrolled": false
   },
   "outputs": [
    {
     "name": "stdout",
     "output_type": "stream",
     "text": [
      "Top 20 Most Important Features\n",
      "---------------------------------\n",
      "Feature: DG6.How are you related to the household head? \n",
      "Value: Myself\n",
      "Importance: 0.0147587507963\n",
      "\n",
      "Feature: DL0. Who is the main income earner in your household?\n",
      "Value: Myself\n",
      "Importance: 0.0147587507963\n",
      "\n",
      "Feature: DG3. What is your marital status?\n",
      "Value: Widow/widower\n",
      "Importance: 0.0132450331002\n",
      "\n",
      "Feature: DL15.What is the highest grade that the female head/spouse completed? \n",
      "Value: No female head/spouse\n",
      "Importance: 0.0128666032106\n",
      "\n",
      "Feature: DL1. In the past 12 months, were you mainly...?\n",
      "Value: Housewife or stay-at-home husband doing household chores\n",
      "Importance: 0.0107852416113\n",
      "\n",
      "Feature: DG6.How are you related to the household head? \n",
      "Value: Spouse\n",
      "Importance: 0.0102175967768\n",
      "\n",
      "Feature: MT1A.Who decides on who should have a phone in your household?\n",
      "Value: My spouse \n",
      "Importance: 0.00983916781843\n",
      "\n",
      "Feature: MT6.How did you obtain your phone?\n",
      "Value: I bought it myself\n",
      "Importance: 0.00889309402555\n",
      "\n",
      "Feature: DG3. What is your marital status?\n",
      "Value: Monogamously married\n",
      "Importance: 0.00851466413587\n",
      "\n",
      "Feature: DG4. What is your highest level of education?\n",
      "Value: Illiterate- no formal education\n",
      "Importance: 0.00775780528784\n",
      "\n",
      "Feature: MT1A.Who decides on who should have a phone in your household?\n",
      "Value: Myself\n",
      "Importance: 0.007568590343\n",
      "\n",
      "Feature: DL1. In the past 12 months, were you mainly...?\n",
      "Value: Not working because of retirement\n",
      "Importance: 0.00700094597414\n",
      "\n",
      "Feature: FL4.What or who do you depend on the most for financial advice?\n",
      "Value: Myself only\n",
      "Importance: 0.00548722781241\n",
      "\n",
      "Feature: FL4.What or who do you depend on the most for financial advice?\n",
      "Value: Spouse\n",
      "Importance: 0.00473036896437\n",
      "\n",
      "Feature: DL19.Does the household possess a television? \n",
      "Value: No\n",
      "Importance: 0.00435193954036\n",
      "\n",
      "Feature: DL7. Do you work on the farm yourself?  \n",
      "Value: Yes\n",
      "Importance: 0.00435193954036\n",
      "\n",
      "Feature: FL10.What’s the most important financial goal for you right now?\n",
      "Value: Make more money\n",
      "Importance: 0.00416272459552\n",
      "\n",
      "Feature: GN1.Who usually decides how the money you earn will be used?\n",
      "Value: nan\n",
      "Importance: 0.00416272459552\n",
      "\n",
      "Feature: DG6.How are you related to the household head? \n",
      "Value: Son/Daughter\n",
      "Importance: 0.00416272459552\n",
      "\n",
      "Feature: FL16. Suppose you need to borrow 100 Rupees. Which is the lower amount to pay back: 105 Rupees or 100 Rupees plus 3 percent?\n",
      "Value: 105 Rupees\n",
      "Importance: 0.00416272459552\n",
      "\n",
      "\n",
      "Top 20 Least Important Features\n",
      "-------------------------------\n",
      "Feature: FL9A.Imagine that this month, after paying for food, cooking fuel, school fees, rent, and airtime, you found yourself with some extra money. Please, select 3 options from the list that you are most likely to spend it on. Option 1\n",
      "Value: Entertainment (e.g., movies, restaurants, sport shows, theater, restaurants, clubbing, partying)\n",
      "Importance: 0.0\n",
      "\n",
      "Feature: GN5.Who decides what kind of financial services you can personally use?\n",
      "Value: nan\n",
      "Importance: 0.0\n",
      "\n",
      "Feature: GN5.Who decides what kind of financial services you can personally use?\n",
      "Value: nan\n",
      "Importance: 0.0\n",
      "\n",
      "Feature: DL5. You have said that these are the ways you got money in the past 12 months. Which of these brought you the most money?\n",
      "Value: Fish farming /Fishing – aquaculture, fishermen   \n",
      "Importance: 0.0\n",
      "\n",
      "Feature: DL5. You have said that these are the ways you got money in the past 12 months. Which of these brought you the most money?\n",
      "Value: Rear livestock/poultry/fish/bees and sell it or sell by-products of it\n",
      "Importance: 0.0\n",
      "\n",
      "Feature: DL5. You have said that these are the ways you got money in the past 12 months. Which of these brought you the most money?\n",
      "Value: Employed in private sector – office/business/factory \n",
      "Importance: 0.0\n",
      "\n",
      "Feature: DL5. You have said that these are the ways you got money in the past 12 months. Which of these brought you the most money?\n",
      "Value: Running your own business  \n",
      "Importance: 0.0\n",
      "\n",
      "Feature: DL5. You have said that these are the ways you got money in the past 12 months. Which of these brought you the most money?\n",
      "Value: Earning money from investments (e.g., shares, stocks)\n",
      "Importance: 0.0\n",
      "\n",
      "Feature: DL5. You have said that these are the ways you got money in the past 12 months. Which of these brought you the most money?\n",
      "Value: Aid agency/NGO/government assistance in form of food or grants\n",
      "Importance: 0.0\n",
      "\n",
      "Feature: DL5. You have said that these are the ways you got money in the past 12 months. Which of these brought you the most money?\n",
      "Value: Other government benefits, such as NREGA, MGNREGA, MahamayaYojana, etc\n",
      "Importance: 0.0\n",
      "\n",
      "Feature: DL5. You have said that these are the ways you got money in the past 12 months. Which of these brought you the most money?\n",
      "Value: Pension that you receive from ex-employer or scheme  \n",
      "Importance: 0.0\n",
      "\n",
      "Feature: DL5. You have said that these are the ways you got money in the past 12 months. Which of these brought you the most money?\n",
      "Value: Buy/get agricultural products from farmers and process it/change it to another form (e.g., maize to flour)\n",
      "Importance: 0.0\n",
      "\n",
      "Feature: GN5.Who decides what kind of financial services you can personally use?\n",
      "Value: nan\n",
      "Importance: 0.0\n",
      "\n",
      "Feature: DL5. You have said that these are the ways you got money in the past 12 months. Which of these brought you the most money?\n",
      "Value: Buy/get agricultural products from farmers/processors and sell it\n",
      "Importance: 0.0\n",
      "\n",
      "Feature: GN5.Who decides what kind of financial services you can personally use?\n",
      "Value: nan\n",
      "Importance: 0.0\n",
      "\n",
      "Feature: GN5.Who decides what kind of financial services you can personally use?\n",
      "Value: Other(specify)\n",
      "Importance: 0.0\n",
      "\n",
      "Feature: GN5.Who decides what kind of financial services you can personally use?\n",
      "Value: DK\n",
      "Importance: 0.0\n",
      "\n",
      "Feature: GN5.Who decides what kind of financial services you can personally use?\n",
      "Value: nan\n",
      "Importance: 0.0\n",
      "\n",
      "Feature: GN5.Who decides what kind of financial services you can personally use?\n",
      "Value: nan\n",
      "Importance: 0.0\n",
      "\n",
      "Feature: DG14. What is the main reason not all school-age children are enrolled in school?\n",
      "Value: nan\n",
      "Importance: 0.0\n",
      "\n"
     ]
    },
    {
     "name": "stderr",
     "output_type": "stream",
     "text": [
      "/Library/Frameworks/Python.framework/Versions/2.7/lib/python2.7/site-packages/ipykernel_launcher.py:29: SettingWithCopyWarning: \n",
      "A value is trying to be set on a copy of a slice from a DataFrame.\n",
      "Try using .loc[row_indexer,col_indexer] = value instead\n",
      "\n",
      "See the caveats in the documentation: http://pandas.pydata.org/pandas-docs/stable/indexing.html#indexing-view-versus-copy\n",
      "/Library/Frameworks/Python.framework/Versions/2.7/lib/python2.7/site-packages/ipykernel_launcher.py:52: SettingWithCopyWarning: \n",
      "A value is trying to be set on a copy of a slice from a DataFrame.\n",
      "Try using .loc[row_indexer,col_indexer] = value instead\n",
      "\n",
      "See the caveats in the documentation: http://pandas.pydata.org/pandas-docs/stable/indexing.html#indexing-view-versus-copy\n"
     ]
    }
   ],
   "source": [
    "data_dict = pd.read_csv('data/WiDS data dictionary/Codebook-Table 1.csv')\n",
    "data_dict = data_dict[['Column Name', 'Question', 'Values']]\n",
    "\n",
    "name = [pair[0] for pair in df_importance.Feature.str.split('_')]\n",
    "value = [pair[1] for pair in df_importance.Feature.str.split('_')]\n",
    "\n",
    "df_importance['Name'] = name\n",
    "df_importance['Value'] = value\n",
    "\n",
    "df_merged = df_importance.merge(data_dict, how='inner', left_on='Name', right_on='Column Name')\n",
    "df_merged = df_merged.sort_values(by=['Importance'], ascending=False)\n",
    "df_merged = df_merged[['Question', 'Values', 'Value', 'Importance']]\n",
    "df_merged['Values'] = df_merged.Values.str.lstrip('\\n').str.split('\\n')\n",
    "df_merged_top20 = df_merged.head(20)\n",
    "df_merged_bottom20 = df_merged.tail(20)\n",
    "\n",
    "value_descrip = []\n",
    "for i, v in enumerate(df_merged_top20.Value.values):\n",
    "    try:\n",
    "        v = str(int(float(v)))\n",
    "        vals = df_merged_top20.Values.values[i]\n",
    "        vals = [val.split('=') for val in vals]\n",
    "        for pair in vals:\n",
    "            if v == pair[0]:\n",
    "                value_descrip.append(pair[1])\n",
    "    except ValueError:\n",
    "        value_descrip.append('nan')\n",
    "\n",
    "df_merged_top20['Answer'] = value_descrip\n",
    "df_merged_top20 = df_merged_top20[['Question', 'Answer', 'Importance']]\n",
    "\n",
    "print 'Top 20 Most Important Features'\n",
    "print '---------------------------------'\n",
    "for i in range(len(df_merged_top20)):\n",
    "    print 'Feature: {}'.format(df_merged_top20.Question.values[i])\n",
    "    print 'Value: {}'.format(df_merged_top20.Answer.values[i])\n",
    "    print 'Importance: {}'.format(df_merged_top20.Importance.values[i])\n",
    "    print ''\n",
    "    \n",
    "value_descrip = []\n",
    "for i, v in enumerate(df_merged_bottom20.Value.values):\n",
    "    try:\n",
    "        v = str(int(float(v)))\n",
    "        vals = df_merged_bottom20.Values.values[i]\n",
    "        vals = [val.split('=') for val in vals]\n",
    "        for pair in vals:\n",
    "            if v == pair[0]:\n",
    "                value_descrip.append(pair[1])\n",
    "    except ValueError:\n",
    "        value_descrip.append('nan')\n",
    "        \n",
    "df_merged_bottom20['Answer'] = value_descrip\n",
    "df_merged_bottom20 = df_merged_bottom20[['Question', 'Answer', 'Importance']]\n",
    "\n",
    "print '\\nTop 20 Least Important Features'\n",
    "print '-------------------------------'\n",
    "for i in range(len(df_merged_bottom20)):\n",
    "    print 'Feature: {}'.format(df_merged_bottom20.Question.values[i])\n",
    "    print 'Value: {}'.format(df_merged_bottom20.Answer.values[i])\n",
    "    print 'Importance: {}'.format(df_merged_bottom20.Importance.values[i])\n",
    "    print ''"
   ]
  },
  {
   "cell_type": "code",
   "execution_count": 16,
   "metadata": {},
   "outputs": [
    {
     "name": "stdout",
     "output_type": "stream",
     "text": [
      "XGBoost Classifier Tuned with GridSearchCV\n",
      "Best parameters: {'max_depth': 9}\n",
      "Best GridSearchCV ROC AUC score: 0.967348403151\n",
      "ROC AUC Score: 0.910861419157\n",
      "Run time: 141.508476766 minutes\n"
     ]
    }
   ],
   "source": [
    "# Tune max_depth (1-10) for XGBoost Classifier\n",
    "start = time.time()\n",
    "\n",
    "parameters = {'max_depth': range(1, 11, 2)}\n",
    "xgb = XGBClassifier()\n",
    "clf = GridSearchCV(xgb, parameters, scoring='roc_auc', refit=True)\n",
    "clf.fit(X_train, y_train)\n",
    "\n",
    "preds = clf.predict(X_test)\n",
    "score = roc_auc_score(y_test, preds)\n",
    "\n",
    "end = time.time()\n",
    "run_time = float(end - start)/60\n",
    "\n",
    "print 'XGBoost Classifier Tuned with GridSearchCV'\n",
    "print 'Best parameters: {}'.format(clf.best_params_)\n",
    "print 'Best GridSearchCV ROC AUC score: {}'.format(clf.best_score_)\n",
    "print 'ROC AUC Score: {}'.format(score)\n",
    "print 'Run time: {} minutes'.format(run_time)"
   ]
  },
  {
   "cell_type": "code",
   "execution_count": 260,
   "metadata": {},
   "outputs": [],
   "source": [
    "# Format test set\n",
    "test_str = test.applymap(str)\n",
    "total = pd.concat([train_str, test_str], ignore_index=True)\n",
    "total_dummies = pd.get_dummies(total)\n",
    "train_dummies = total_dummies.head(len(train))\n",
    "test_dummies = total_dummies.tail(len(test))\n",
    "\n",
    "# # Export modified train and test sets to CSV to use with Keras\n",
    "# train_dummies.to_csv('data/x_train.csv', index=False)\n",
    "# pd.DataFrame(label).to_csv('data/y_train.csv', index=False)\n",
    "# test_dummies.to_csv('data/x_test.csv', index=False)"
   ]
  },
  {
   "cell_type": "code",
   "execution_count": 262,
   "metadata": {},
   "outputs": [
    {
     "name": "stdout",
     "output_type": "stream",
     "text": [
      "Fitting model...\n",
      "\n",
      "Making predictions...\n",
      "\n",
      "Formatting submission...\n",
      "\n",
      "Program complete!\n",
      "Run time: 0.18 minutes\n",
      "\n"
     ]
    }
   ],
   "source": [
    "# Update submission number \n",
    "sub_number = 12\n",
    "\n",
    "# Fit best model to full train set\n",
    "start = time.time()\n",
    "print 'Fitting model...\\n'\n",
    "\n",
    "clf = LogisticRegression(C=0.2, penalty='l1', solver='liblinear', random_state=seed)\n",
    "clf.fit(train_dummies, label)\n",
    "#clf.fit(train_dummies, label, eval_metric='auc')\n",
    "\n",
    "# Make predictions\n",
    "print 'Making predictions...\\n'\n",
    "preds = clf.predict_proba(test_dummies)\n",
    "\n",
    "# Format submission \n",
    "print 'Formatting submission...\\n'\n",
    "df = format_submission(preds, len(test_dummies))\n",
    "df.to_csv('submissions/submission{}.csv'.format(sub_number), index=False)\n",
    "\n",
    "print 'Program complete!'\n",
    "\n",
    "end = time.time()\n",
    "run_time = float(end - start)/60\n",
    "print 'Run time: {:0.2f} minutes\\n'.format(run_time)"
   ]
  },
  {
   "cell_type": "code",
   "execution_count": 8,
   "metadata": {},
   "outputs": [
    {
     "name": "stdout",
     "output_type": "stream",
     "text": [
      "Tuning model...\n",
      "\n",
      "Making predictions...\n",
      "\n",
      "\n",
      "Formatting submission...\n",
      "\n",
      "Program complete!\n",
      "\n",
      "XGBoost Classifier Tuned with GridSearchCV\n",
      "Best parameters: {'n_estimators': 250, 'max_depth': 9}\n",
      "Best GridSearchCV ROC AUC score: 0.969377013799\n",
      "Run time: 687.11 minutes\n"
     ]
    }
   ],
   "source": [
    "# Cross-validation on full training set\n",
    "\n",
    "# Update submission number \n",
    "start = time.time()\n",
    "sub_number = 10\n",
    "\n",
    "# GridSearchCV\n",
    "print 'Tuning model...\\n'\n",
    "parameters = {'max_depth': range(1, 11, 2), 'n_estimators': range(50,300,50)}\n",
    "xgb = XGBClassifier()\n",
    "clf = GridSearchCV(xgb, parameters, scoring='roc_auc', refit=True)\n",
    "clf.fit(train_dummies, label)\n",
    "\n",
    "# Make predictions\n",
    "print 'Making predictions...\\n'\n",
    "preds = clf.predict_proba(test_dummies)\n",
    "\n",
    "# Format submission \n",
    "print 'Formatting submission...\\n'\n",
    "df = format_submission(preds, len(test_dummies))\n",
    "df.to_csv('submissions/submission{}.csv'.format(sub_number), index=False)\n",
    "\n",
    "end = time.time()\n",
    "run_time = float(end - start)/60\n",
    "\n",
    "print 'Program complete!\\n'\n",
    "print 'XGBoost Classifier Tuned with GridSearchCV'\n",
    "print 'Best parameters: {}'.format(clf.best_params_)\n",
    "print 'Best GridSearchCV ROC AUC score: {}'.format(clf.best_score_)\n",
    "print 'Run time: {:0.2f} minutes'.format(run_time)"
   ]
  },
  {
   "cell_type": "code",
   "execution_count": null,
   "metadata": {},
   "outputs": [],
   "source": []
  }
 ],
 "metadata": {
  "kernelspec": {
   "display_name": "Python 2",
   "language": "python",
   "name": "python2"
  },
  "language_info": {
   "codemirror_mode": {
    "name": "ipython",
    "version": 2
   },
   "file_extension": ".py",
   "mimetype": "text/x-python",
   "name": "python",
   "nbconvert_exporter": "python",
   "pygments_lexer": "ipython2",
   "version": "2.7.9"
  }
 },
 "nbformat": 4,
 "nbformat_minor": 2
}
