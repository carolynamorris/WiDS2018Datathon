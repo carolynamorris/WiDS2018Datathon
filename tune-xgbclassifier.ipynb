{
 "cells": [
  {
   "cell_type": "markdown",
   "metadata": {},
   "source": [
    "# WiDS 2018 Datathon"
   ]
  },
  {
   "cell_type": "markdown",
   "metadata": {},
   "source": [
    "Predictive Analytics for Social Impact\n",
    "\n",
    "Competition on [Kaggle](https://www.kaggle.com/c/wids2018datathon)"
   ]
  },
  {
   "cell_type": "code",
   "execution_count": 1,
   "metadata": {},
   "outputs": [],
   "source": [
    "%matplotlib inline\n",
    "import pandas as pd\n",
    "import numpy as np\n",
    "import matplotlib.pyplot as plt\n",
    "import seaborn as sns\n",
    "import time\n",
    "from sklearn.model_selection import train_test_split\n",
    "from sklearn.feature_selection import SelectKBest\n",
    "from sklearn.feature_selection import chi2\n",
    "from sklearn.model_selection import GridSearchCV\n",
    "from sklearn.metrics import confusion_matrix\n",
    "from sklearn.metrics import roc_auc_score\n",
    "from xgboost import XGBClassifier\n",
    "from helpers import format_submission"
   ]
  },
  {
   "cell_type": "code",
   "execution_count": 2,
   "metadata": {},
   "outputs": [
    {
     "name": "stdout",
     "output_type": "stream",
     "text": [
      "Loading data...\n",
      "\n",
      "Train Shape: (18255, 1235)\n",
      "Test Shape: (27285, 1234)\n",
      "\n",
      "Converting to dummy variables...\n",
      "\n",
      "Splitting into train and validation set...\n",
      "\n",
      "Data preparation complete.\n"
     ]
    }
   ],
   "source": [
    "seed = 37\n",
    "\n",
    "print 'Loading data...\\n'\n",
    "train = pd.read_csv('data/train.csv', low_memory=False)\n",
    "test = pd.read_csv('data/test.csv', low_memory=False)\n",
    "\n",
    "print 'Train Shape: {}'.format(train.shape)\n",
    "print 'Test Shape: {}\\n'.format(test.shape)\n",
    "\n",
    "label = train['is_female']\n",
    "del train['is_female']\n",
    "\n",
    "del train['train_id']\n",
    "del test['test_id']\n",
    "\n",
    "# Remove rows/columns that are missing all data\n",
    "train = train.dropna(axis=0, how='all')\n",
    "train = train.dropna(axis=1, how='all')\n",
    "\n",
    "# Convert to dummy variables\n",
    "print 'Converting to dummy variables...\\n'\n",
    "train_str = train.applymap(str)\n",
    "train_dummies = pd.get_dummies(train_str)\n",
    "\n",
    "# Split into train and validation set\n",
    "print 'Splitting into train and validation set...\\n'\n",
    "X_train, X_test, y_train, y_test = train_test_split(train_dummies, label, test_size=0.2, random_state=seed)\n",
    "\n",
    "print 'Data preparation complete.'"
   ]
  },
  {
   "cell_type": "code",
   "execution_count": null,
   "metadata": {
    "scrolled": false
   },
   "outputs": [
    {
     "name": "stdout",
     "output_type": "stream",
     "text": [
      "Selecting features with SelectKBest...\n",
      "\n",
      "Tuning parameters and fitting best model...\n",
      "\n"
     ]
    }
   ],
   "source": [
    "print 'Selecting features with SelectKBest...\\n'\n",
    "k=1003\n",
    "ch2 = SelectKBest(chi2, k=k)\n",
    "X_train_new = ch2.fit_transform(X_train, y_train)\n",
    "X_test_new = ch2.transform(X_test)\n",
    "\n",
    "print 'Tuning parameters and fitting best model...\\n'\n",
    "start = time.time()\n",
    "\n",
    "parameters = {'max_depth': range(7,11), 'learning_rate': [0.0001, 0.001, 0.01, 0.1, 0.2, 0.3],\n",
    "              'n_estimators': range(50,300,50), 'booster': ['gbtree', 'gblinear', 'dart'],\n",
    "              'gamma': np.arange(0,0.1,0.02), 'min_child_weight': [0.5,1,1.5],\n",
    "              'max_delta_step': [0,0.1,0.5], 'subsample':[1,.9], 'colsample_bytree': [1,.9],\n",
    "              'colsample_bylevel': [1,.9], 'reg_alpha': [0,1], 'reg_lambda': [0,1],\n",
    "              'scale_pos_weight': [1,.9,.5]}\n",
    "\n",
    "xgb = XGBClassifier()\n",
    "clf = GridSearchCV(xgb, parameters, scoring='roc_auc', refit=True)\n",
    "clf.fit(X_train_new, y_train)\n",
    "\n",
    "print 'Making predictions...\\n'\n",
    "preds = clf.predict(X_test_new)\n",
    "score = roc_auc_score(Y_test, preds)\n",
    "\n",
    "end = time.time()\n",
    "run_time = float(end - start)/60\n",
    "\n",
    "print 'Modeling complete!\\n'\n",
    "\n",
    "print 'XGBoost Classifier with SelectKBest, {} Features'.format(k)\n",
    "print 'Best parameters: {}'.format(clf.best_params_)\n",
    "print 'Best GridSearchCV ROC AUC score: {}'.format(clf.best_score_)\n",
    "print 'ROC AUC Score: {}'.format(score)\n",
    "print 'Run time: {:0.2f} minutes\\n'.format(run_time)"
   ]
  }
 ],
 "metadata": {
  "kernelspec": {
   "display_name": "Python 2",
   "language": "python",
   "name": "python2"
  },
  "language_info": {
   "codemirror_mode": {
    "name": "ipython",
    "version": 2
   },
   "file_extension": ".py",
   "mimetype": "text/x-python",
   "name": "python",
   "nbconvert_exporter": "python",
   "pygments_lexer": "ipython2",
   "version": "2.7.9"
  }
 },
 "nbformat": 4,
 "nbformat_minor": 2
}
