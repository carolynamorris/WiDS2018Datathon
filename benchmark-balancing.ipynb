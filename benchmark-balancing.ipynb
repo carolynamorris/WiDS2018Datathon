{
 "cells": [
  {
   "cell_type": "markdown",
   "metadata": {},
   "source": [
    "# Benchmark Balancing"
   ]
  },
  {
   "cell_type": "code",
   "execution_count": 1,
   "metadata": {},
   "outputs": [],
   "source": [
    "%matplotlib inline\n",
    "import pandas as pd\n",
    "import numpy as np\n",
    "import matplotlib.pyplot as plt\n",
    "import seaborn as sns\n",
    "import time\n",
    "from sklearn.model_selection import train_test_split\n",
    "from sklearn.feature_selection import VarianceThreshold\n",
    "from sklearn.linear_model import LogisticRegression\n",
    "from sklearn.metrics import roc_auc_score\n",
    "from xgboost import XGBClassifier\n",
    "from sklearn.ensemble import VotingClassifier\n",
    "from helpers import format_submission"
   ]
  },
  {
   "cell_type": "code",
   "execution_count": null,
   "metadata": {},
   "outputs": [],
   "source": [
    "seed = 37"
   ]
  },
  {
   "cell_type": "markdown",
   "metadata": {},
   "source": [
    "## Balanced"
   ]
  },
  {
   "cell_type": "code",
   "execution_count": 24,
   "metadata": {},
   "outputs": [
    {
     "name": "stdout",
     "output_type": "stream",
     "text": [
      "Loading data...\n",
      "\n",
      "Raw\n",
      "Train Shape: (18255, 1235)\n",
      "Test Shape: (27285, 1234)\n",
      "\n",
      "Balanced\n",
      "Train Shape: (16900, 1235)\n",
      "\n",
      "Converting to dummy variables...\n",
      "\n",
      "Splitting into train and validation set...\n",
      "\n",
      "Data preprocessing complete.\n"
     ]
    }
   ],
   "source": [
    "print 'Loading data...\\n'\n",
    "train = pd.read_csv('data/train.csv', low_memory=False)\n",
    "test = pd.read_csv('data/test.csv', low_memory=False)\n",
    "\n",
    "print 'Raw'\n",
    "print 'Train Shape: {}'.format(train.shape)\n",
    "print 'Test Shape: {}\\n'.format(test.shape)\n",
    "\n",
    "# Balance the data\n",
    "minimum = pd.DataFrame(train['is_female'].value_counts()).min().values[0]\n",
    "train_female = train[train.is_female == 1]\n",
    "train_male = train[train.is_female == 0]\n",
    "train_female_sample = train_female.sample(n=minimum, random_state=seed)\n",
    "train = pd.concat([train_female_sample, train_male], ignore_index=True).sample(frac=1)\n",
    "\n",
    "print 'Balanced'\n",
    "print 'Train Shape: {}\\n'.format(train.shape)\n",
    "\n",
    "label = train['is_female']\n",
    "del train['is_female']\n",
    "del train['train_id']\n",
    "del test['test_id']\n",
    "\n",
    "# Remove rows/columns that are missing all data\n",
    "train = train.dropna(axis=0, how='all')\n",
    "train = train.dropna(axis=1, how='all')\n",
    "\n",
    "# Convert to dummy variables\n",
    "print 'Converting to dummy variables...\\n'\n",
    "train_str = train.applymap(str)\n",
    "train_dummies = pd.get_dummies(train_str)\n",
    "\n",
    "# Split into train and validation set\n",
    "print 'Splitting into train and validation set...\\n'\n",
    "X_train, X_test, y_train, y_test = train_test_split(train_dummies, label, test_size=0.2, random_state=seed)\n",
    "\n",
    "# print 'Performing feature selection...\\n'\n",
    "# t=0\n",
    "# sel = VarianceThreshold(threshold=t)\n",
    "# X_train_new = sel.fit_transform(X_train)\n",
    "# X_test_new = sel.transform(X_test)\n",
    "\n",
    "print 'Data preprocessing complete.'"
   ]
  },
  {
   "cell_type": "code",
   "execution_count": 26,
   "metadata": {},
   "outputs": [
    {
     "name": "stdout",
     "output_type": "stream",
     "text": [
      "Fitting model...\n",
      "\n",
      "Making predictions...\n"
     ]
    },
    {
     "data": {
      "text/plain": [
       "0.96580785172878969"
      ]
     },
     "execution_count": 26,
     "metadata": {},
     "output_type": "execute_result"
    }
   ],
   "source": [
    "print 'Fitting model...\\n'\n",
    "logreg = LogisticRegression(C=0.2, penalty='l1', solver='liblinear', random_state=seed)\n",
    "xgb = XGBClassifier(max_depth=7, n_estimators=100, random_state=seed)\n",
    "\n",
    "clf = VotingClassifier(estimators=[('logreg', logreg), ('xgb', xgb)], voting='soft')\n",
    "clf.fit(X_train, y_train)\n",
    "\n",
    "print 'Making predictions...'\n",
    "predictions = clf.predict_proba(X_test)\n",
    "\n",
    "preds = np.round([p[1] for p in predictions], 1)\n",
    "roc_auc_score(y_test, preds)"
   ]
  },
  {
   "cell_type": "markdown",
   "metadata": {},
   "source": [
    "## Non-Balanced"
   ]
  },
  {
   "cell_type": "code",
   "execution_count": 27,
   "metadata": {},
   "outputs": [
    {
     "name": "stdout",
     "output_type": "stream",
     "text": [
      "Loading data...\n",
      "\n",
      "Raw\n",
      "Train Shape: (18255, 1235)\n",
      "Test Shape: (27285, 1234)\n",
      "\n",
      "Converting to dummy variables...\n",
      "\n",
      "Splitting into train and validation set...\n",
      "\n",
      "Data preprocessing complete.\n"
     ]
    }
   ],
   "source": [
    "print 'Loading data...\\n'\n",
    "train = pd.read_csv('data/train.csv', low_memory=False)\n",
    "test = pd.read_csv('data/test.csv', low_memory=False)\n",
    "\n",
    "print 'Raw'\n",
    "print 'Train Shape: {}'.format(train.shape)\n",
    "print 'Test Shape: {}\\n'.format(test.shape)\n",
    "\n",
    "label = train['is_female']\n",
    "del train['is_female']\n",
    "del train['train_id']\n",
    "del test['test_id']\n",
    "\n",
    "# Remove rows/columns that are missing all data\n",
    "train = train.dropna(axis=0, how='all')\n",
    "train = train.dropna(axis=1, how='all')\n",
    "\n",
    "# Convert to dummy variables\n",
    "print 'Converting to dummy variables...\\n'\n",
    "train_str = train.applymap(str)\n",
    "train_dummies = pd.get_dummies(train_str)\n",
    "\n",
    "# Split into train and validation set\n",
    "print 'Splitting into train and validation set...\\n'\n",
    "X_train, X_test, y_train, y_test = train_test_split(train_dummies, label, test_size=0.2, random_state=seed)\n",
    "\n",
    "# print 'Performing feature selection...\\n'\n",
    "# t=0\n",
    "# sel = VarianceThreshold(threshold=t)\n",
    "# X_train_new = sel.fit_transform(X_train)\n",
    "# X_test_new = sel.transform(X_test)\n",
    "\n",
    "print 'Data preprocessing complete.'"
   ]
  },
  {
   "cell_type": "code",
   "execution_count": 28,
   "metadata": {},
   "outputs": [
    {
     "name": "stdout",
     "output_type": "stream",
     "text": [
      "Fitting model...\n",
      "\n",
      "Making predictions...\n"
     ]
    },
    {
     "data": {
      "text/plain": [
       "0.96454802642877158"
      ]
     },
     "execution_count": 28,
     "metadata": {},
     "output_type": "execute_result"
    }
   ],
   "source": [
    "print 'Fitting model...\\n'\n",
    "logreg = LogisticRegression(C=0.2, penalty='l1', solver='liblinear', random_state=seed)\n",
    "xgb = XGBClassifier(max_depth=7, n_estimators=100, random_state=seed)\n",
    "\n",
    "clf = VotingClassifier(estimators=[('logreg', logreg), ('xgb', xgb)], voting='soft')\n",
    "clf.fit(X_train, y_train)\n",
    "\n",
    "print 'Making predictions...'\n",
    "predictions = clf.predict_proba(X_test)\n",
    "\n",
    "preds = np.round([p[1] for p in predictions], 1)\n",
    "roc_auc_score(y_test, preds)"
   ]
  },
  {
   "cell_type": "markdown",
   "metadata": {},
   "source": [
    "## Predictions with the Best"
   ]
  },
  {
   "cell_type": "code",
   "execution_count": 29,
   "metadata": {},
   "outputs": [
    {
     "name": "stdout",
     "output_type": "stream",
     "text": [
      "Loading data...\n",
      "\n",
      "Raw\n",
      "Train Shape: (18255, 1235)\n",
      "Test Shape: (27285, 1234)\n",
      "\n",
      "Balanced\n",
      "Train Shape: (16900, 1235)\n",
      "\n",
      "Converting to dummy variables...\n",
      "\n",
      "Data preprocessing complete.\n"
     ]
    }
   ],
   "source": [
    "print 'Loading data...\\n'\n",
    "train = pd.read_csv('data/train.csv', low_memory=False)\n",
    "test = pd.read_csv('data/test.csv', low_memory=False)\n",
    "\n",
    "print 'Raw'\n",
    "print 'Train Shape: {}'.format(train.shape)\n",
    "print 'Test Shape: {}\\n'.format(test.shape)\n",
    "\n",
    "# Balance the data\n",
    "minimum = pd.DataFrame(train['is_female'].value_counts()).min().values[0]\n",
    "train_female = train[train.is_female == 1]\n",
    "train_male = train[train.is_female == 0]\n",
    "train_female_sample = train_female.sample(n=minimum, random_state=seed)\n",
    "train = pd.concat([train_female_sample, train_male], ignore_index=True).sample(frac=1)\n",
    "\n",
    "print 'Balanced'\n",
    "print 'Train Shape: {}\\n'.format(train.shape)\n",
    "\n",
    "label = train['is_female']\n",
    "del train['is_female']\n",
    "del train['train_id']\n",
    "del test['test_id']\n",
    "\n",
    "# Remove rows/columns that are missing all data\n",
    "train = train.dropna(axis=0, how='all')\n",
    "train = train.dropna(axis=1, how='all')\n",
    "\n",
    "# Convert to dummy variables (format train and test set)\n",
    "print 'Converting to dummy variables...\\n'\n",
    "train_str = train.applymap(str)\n",
    "test_str = test.applymap(str)\n",
    "total = pd.concat([train_str, test_str], ignore_index=True)\n",
    "total_dummies = pd.get_dummies(total)\n",
    "X_train = total_dummies.head(len(train))\n",
    "X_test = total_dummies.tail(len(test))\n",
    "\n",
    "print 'Data preprocessing complete.'"
   ]
  },
  {
   "cell_type": "code",
   "execution_count": 33,
   "metadata": {},
   "outputs": [
    {
     "name": "stdout",
     "output_type": "stream",
     "text": [
      "Fitting model...\n",
      "\n",
      "Making predictions...\n"
     ]
    }
   ],
   "source": [
    "print 'Fitting model...\\n'\n",
    "logreg = LogisticRegression(C=0.2, penalty='l1', solver='liblinear', random_state=seed)\n",
    "xgb = XGBClassifier(max_depth=7, n_estimators=100, random_state=seed)\n",
    "\n",
    "clf = VotingClassifier(estimators=[('logreg', logreg), ('xgb', xgb)], voting='soft')\n",
    "clf.fit(X_train, label)\n",
    "\n",
    "print 'Making predictions...\\n'\n",
    "predictions = clf.predict_proba(X_test)\n",
    "\n",
    "print 'Modeling complete.'"
   ]
  },
  {
   "cell_type": "code",
   "execution_count": 34,
   "metadata": {},
   "outputs": [],
   "source": [
    "sub_number = 16\n",
    "df_preds = format_submission(predictions)\n",
    "df_preds.to_csv('submissions/submission{}.csv'.format(sub_number), index=False)"
   ]
  },
  {
   "cell_type": "markdown",
   "metadata": {},
   "source": [
    "Note: submission on Kaggle of balanced dataset didn't score as highly"
   ]
  }
 ],
 "metadata": {
  "kernelspec": {
   "display_name": "Python 2",
   "language": "python",
   "name": "python2"
  },
  "language_info": {
   "codemirror_mode": {
    "name": "ipython",
    "version": 2
   },
   "file_extension": ".py",
   "mimetype": "text/x-python",
   "name": "python",
   "nbconvert_exporter": "python",
   "pygments_lexer": "ipython2",
   "version": "2.7.9"
  }
 },
 "nbformat": 4,
 "nbformat_minor": 2
}
